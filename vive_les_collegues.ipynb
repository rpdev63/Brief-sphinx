{
 "cells": [
  {
   "cell_type": "code",
   "execution_count": 10,
   "id": "0d12708f-fae6-43e0-9f0c-b5f9f21639f0",
   "metadata": {},
   "outputs": [],
   "source": [
    "import pandas as pd \n",
    "#liste = pd.read_table(\"liste_employes.txt\")\n",
    "liste = pd.read_csv(\"liste_employes.txt\",sep=\",\")\n",
    "liste.to_csv('liste_employes.csv', index = False)"
   ]
  },
  {
   "cell_type": "code",
   "execution_count": null,
   "id": "4aad2329-89ef-46fe-aa97-5322b015c049",
   "metadata": {},
   "outputs": [],
   "source": []
  }
 ],
 "metadata": {
  "kernelspec": {
   "display_name": "Python 3 (ipykernel)",
   "language": "python",
   "name": "python3"
  },
  "language_info": {
   "codemirror_mode": {
    "name": "ipython",
    "version": 3
   },
   "file_extension": ".py",
   "mimetype": "text/x-python",
   "name": "python",
   "nbconvert_exporter": "python",
   "pygments_lexer": "ipython3",
   "version": "3.9.12"
  }
 },
 "nbformat": 4,
 "nbformat_minor": 5
}
